{
 "cells": [
  {
   "cell_type": "code",
   "execution_count": 1,
   "id": "1722b057-d2d9-4664-975c-04504eb56575",
   "metadata": {},
   "outputs": [
    {
     "name": "stdout",
     "output_type": "stream",
     "text": [
      "WARNING! Using --password via the CLI is insecure. Use --password-stdin.\n",
      "WARNING! Your password will be stored unencrypted in /home/jupyter/.docker/config.json.\n",
      "Configure a credential helper to remove this warning. See\n",
      "https://docs.docker.com/engine/reference/commandline/login/#credentials-store\n",
      "\n",
      "Login Succeeded\n"
     ]
    }
   ],
   "source": [
    "!docker login -u mariembouhadda -p sS58169362"
   ]
  },
  {
   "cell_type": "code",
   "execution_count": 17,
   "id": "93374204-6b7a-49ef-9b85-00a17728236c",
   "metadata": {},
   "outputs": [
    {
     "name": "stdout",
     "output_type": "stream",
     "text": [
      "Overwriting Dockerfile\n"
     ]
    }
   ],
   "source": [
    "%%writefile Dockerfile\n",
    "FROM tensorflow/tensorflow\n",
    "COPY ./ ./"
   ]
  },
  {
   "cell_type": "code",
   "execution_count": 18,
   "id": "52ed2a75-0358-4599-8da9-cd3bd6e970cc",
   "metadata": {},
   "outputs": [
    {
     "name": "stdout",
     "output_type": "stream",
     "text": [
      "Sending build context to Docker daemon  326.7kB\n",
      "Step 1/2 : FROM tensorflow/tensorflow\n",
      " ---> 67f912b32b47\n",
      "Step 2/2 : COPY ./ ./\n",
      " ---> 30aea52844b8\n",
      "Successfully built 30aea52844b8\n",
      "Successfully tagged mariembouhadda/hello-world:latest\n"
     ]
    }
   ],
   "source": [
    "!docker build -t mariembouhadda/hello-world ."
   ]
  },
  {
   "cell_type": "code",
   "execution_count": 19,
   "id": "afb9b443-41ce-4a1e-b698-68d47506a89f",
   "metadata": {},
   "outputs": [
    {
     "name": "stdout",
     "output_type": "stream",
     "text": [
      "Using default tag: latest\n",
      "The push refers to repository [docker.io/mariembouhadda/hello-world]\n",
      "\n",
      "\u001b[1Bd59050eb: Preparing \n",
      "\u001b[1B044609ed: Preparing \n",
      "\u001b[1B2430415b: Preparing \n",
      "\u001b[1Bde7ae625: Preparing \n",
      "\u001b[1B272de80e: Preparing \n",
      "\u001b[1B471b421b: Preparing \n",
      "\u001b[1B4d2a8fe6: Preparing \n",
      "\u001b[1Bf09b441c: Preparing \n",
      "\u001b[9Bd59050eb: Pushed lready exists 8kBA\u001b[2K\u001b[9A\u001b[2K\u001b[9A\u001b[2K\u001b[9A\u001b[2K\u001b[4A\u001b[2K\u001b[9A\u001b[2Klatest: digest: sha256:130d117e38ea543d9ac8d044a966399be002c08d6d504df9ab9faa6d82086b1d size: 2209\n"
     ]
    }
   ],
   "source": [
    "!docker push mariembouhadda/hello-world"
   ]
  },
  {
   "cell_type": "code",
   "execution_count": 4,
   "id": "ad006758-e873-4252-83d5-2d2bf1139f58",
   "metadata": {},
   "outputs": [],
   "source": [
    "import kfp\n",
    "import kfp.components as comp"
   ]
  },
  {
   "cell_type": "code",
   "execution_count": 5,
   "id": "81069820-ca5b-4558-ab75-5ce90b3c0f75",
   "metadata": {},
   "outputs": [],
   "source": [
    "@kfp.dsl.component\n",
    "def hello_world():\n",
    "    # Defining component configuration\n",
    "    hello_component = kfp.dsl.ContainerOp(\n",
    "        name='hello-world',\n",
    "        image='docker.io/mariembouhadda/hello-world-test:latest',\n",
    "        command=['python', 'hello_world.py'],\n",
    "        )\n",
    "    return hello_component"
   ]
  },
  {
   "cell_type": "code",
   "execution_count": 6,
   "id": "529de1a9-0a81-4e2d-8a1c-6e6c616162e7",
   "metadata": {},
   "outputs": [],
   "source": [
    "@kfp.dsl.pipeline(\n",
    "  name=\"hello world script\",\n",
    "  description=\"hello world script\"\n",
    ")\n",
    "def hi():\n",
    "    hello = hello_world()\n",
    "    hello.execution_options.caching_strategy.max_cache_staleness = \"P0D\"\n"
   ]
  },
  {
   "cell_type": "code",
   "execution_count": 7,
   "id": "f2ec311d-1ba7-4908-9852-f36d36ebea9b",
   "metadata": {},
   "outputs": [
    {
     "name": "stderr",
     "output_type": "stream",
     "text": [
      "/home/jupyter/.local/lib/python3.7/site-packages/kfp/dsl/_container_op.py:1264: FutureWarning: Please create reusable components instead of constructing ContainerOp instances directly. Reusable components are shareable, portable and have compatibility and support guarantees. Please see the documentation: https://www.kubeflow.org/docs/pipelines/sdk/component-development/#writing-your-component-definition-file The components can be created manually (or, in case of python, using kfp.components.create_component_from_func or func_to_container_op) and then loaded using kfp.components.load_component_from_file, load_component_from_uri or load_component_from_text: https://kubeflow-pipelines.readthedocs.io/en/stable/source/kfp.components.html#kfp.components.load_component_from_file\n",
      "  category=FutureWarning,\n"
     ]
    }
   ],
   "source": [
    "kfp.compiler.Compiler().compile(hi, 'hello_world.zip')"
   ]
  },
  {
   "cell_type": "code",
   "execution_count": 8,
   "id": "ae2ba4d8-586c-484c-b776-89ea6cdcabe9",
   "metadata": {},
   "outputs": [],
   "source": [
    "client = kfp.Client(host='https://21306363b1ebd301-dot-us-central1.pipelines.googleusercontent.com')"
   ]
  },
  {
   "cell_type": "code",
   "execution_count": 9,
   "id": "12d7e4db-f77a-430c-a876-390ebead3645",
   "metadata": {},
   "outputs": [
    {
     "data": {
      "text/html": [
       "<a href=\"https://21306363b1ebd301-dot-us-central1.pipelines.googleusercontent.com/#/experiments/details/23aa005d-ddd2-4643-9388-8fa0fb25f01a\" target=\"_blank\" >Experiment details</a>."
      ],
      "text/plain": [
       "<IPython.core.display.HTML object>"
      ]
     },
     "metadata": {},
     "output_type": "display_data"
    }
   ],
   "source": [
    "EXPERIMENT_NAME = 'hello world test'\n",
    "experiment = client.create_experiment(name=EXPERIMENT_NAME)"
   ]
  },
  {
   "cell_type": "code",
   "execution_count": 10,
   "id": "39a6ea92-cd97-4d14-b01e-e8b4707f5c64",
   "metadata": {},
   "outputs": [
    {
     "data": {
      "text/html": [
       "<a href=\"https://21306363b1ebd301-dot-us-central1.pipelines.googleusercontent.com/#/runs/details/9adb2de4-d12e-44db-8282-f86a600bbe2b\" target=\"_blank\" >Run details</a>."
      ],
      "text/plain": [
       "<IPython.core.display.HTML object>"
      ]
     },
     "metadata": {},
     "output_type": "display_data"
    }
   ],
   "source": [
    "run = client.run_pipeline(experiment.id, 'hello world test', 'hello_world.zip')"
   ]
  },
  {
   "cell_type": "code",
   "execution_count": 12,
   "id": "2eba22db-f9be-49dd-a95e-716b922a29af",
   "metadata": {},
   "outputs": [
    {
     "name": "stdout",
     "output_type": "stream",
     "text": [
      "Requirement already satisfied: db-dtypes in /opt/conda/lib/python3.7/site-packages (1.0.0)\n",
      "Requirement already satisfied: pyarrow<8.0dev,>=3.0.0 in /opt/conda/lib/python3.7/site-packages (from db-dtypes) (7.0.0)\n",
      "Requirement already satisfied: packaging>=17.0 in /opt/conda/lib/python3.7/site-packages (from db-dtypes) (21.3)\n",
      "Requirement already satisfied: numpy<2.0dev,>=1.16.6 in /opt/conda/lib/python3.7/site-packages (from db-dtypes) (1.19.5)\n",
      "Requirement already satisfied: pandas<2.0dev,>=0.24.2 in /opt/conda/lib/python3.7/site-packages (from db-dtypes) (1.3.5)\n",
      "Requirement already satisfied: pyparsing!=3.0.5,>=2.0.2 in /opt/conda/lib/python3.7/site-packages (from packaging>=17.0->db-dtypes) (3.0.7)\n",
      "Requirement already satisfied: python-dateutil>=2.7.3 in /opt/conda/lib/python3.7/site-packages (from pandas<2.0dev,>=0.24.2->db-dtypes) (2.8.2)\n",
      "Requirement already satisfied: pytz>=2017.3 in /opt/conda/lib/python3.7/site-packages (from pandas<2.0dev,>=0.24.2->db-dtypes) (2021.3)\n",
      "Requirement already satisfied: six>=1.5 in /opt/conda/lib/python3.7/site-packages (from python-dateutil>=2.7.3->pandas<2.0dev,>=0.24.2->db-dtypes) (1.15.0)\n"
     ]
    }
   ],
   "source": [
    "#!pip install db-dtypes"
   ]
  },
  {
   "cell_type": "code",
   "execution_count": 13,
   "id": "b9315b05-ea16-4612-bbb3-1563999f0fdb",
   "metadata": {},
   "outputs": [],
   "source": [
    "#import db_dtypes"
   ]
  }
 ],
 "metadata": {
  "environment": {
   "kernel": "python3",
   "name": "tf2-gpu.2-6.m91",
   "type": "gcloud",
   "uri": "gcr.io/deeplearning-platform-release/tf2-gpu.2-6:m91"
  },
  "kernelspec": {
   "display_name": "Python 3",
   "language": "python",
   "name": "python3"
  },
  "language_info": {
   "codemirror_mode": {
    "name": "ipython",
    "version": 3
   },
   "file_extension": ".py",
   "mimetype": "text/x-python",
   "name": "python",
   "nbconvert_exporter": "python",
   "pygments_lexer": "ipython3",
   "version": "3.7.12"
  }
 },
 "nbformat": 4,
 "nbformat_minor": 5
}
