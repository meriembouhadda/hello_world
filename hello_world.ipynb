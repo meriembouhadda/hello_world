{
 "cells": [
  {
   "cell_type": "code",
   "execution_count": 1,
   "id": "1722b057-d2d9-4664-975c-04504eb56575",
   "metadata": {},
   "outputs": [
    {
     "name": "stdout",
     "output_type": "stream",
     "text": [
      "WARNING! Using --password via the CLI is insecure. Use --password-stdin.\n",
      "WARNING! Your password will be stored unencrypted in /home/jupyter/.docker/config.json.\n",
      "Configure a credential helper to remove this warning. See\n",
      "https://docs.docker.com/engine/reference/commandline/login/#credentials-store\n",
      "\n",
      "Login Succeeded\n"
     ]
    }
   ],
   "source": [
    "!docker login -u mariembouhadda -p sS58169362"
   ]
  },
  {
   "cell_type": "code",
   "execution_count": 47,
   "id": "93374204-6b7a-49ef-9b85-00a17728236c",
   "metadata": {},
   "outputs": [
    {
     "name": "stdout",
     "output_type": "stream",
     "text": [
      "Overwriting Dockerfile\n"
     ]
    }
   ],
   "source": [
    "%%writefile Dockerfile\n",
    "FROM python:3.7\n",
    "\n",
    "#RUN git clone https://github.com/meriembouhadda/hello_world.git\n",
    "\n",
    "COPY hello_world_launcher.py .\n",
    "COPY hello_world.py . \n",
    "COPY requirements.txt .\n",
    "COPY ./ ./\n",
    "RUN pip install -r requirements.txt\n",
    "#ARG project_id='kheopsys-data-lab'\n",
    "#ARG bucket='ml-pipeline-309409_bucket'\n",
    "#using bash we run the deploy script we just copied in here\n",
    "ENTRYPOINT [\"python\",\"hello_world_launcher.py\"]\n",
    "#,\"--project\",\"ml-pipeline-309409\",\"--bucket\",\"ml-pipeline-309409_bucket\"]"
   ]
  },
  {
   "cell_type": "code",
   "execution_count": null,
   "id": "52ed2a75-0358-4599-8da9-cd3bd6e970cc",
   "metadata": {},
   "outputs": [
    {
     "name": "stdout",
     "output_type": "stream",
     "text": [
      "Sending build context to Docker daemon  506.4kB\n",
      "Step 1/7 : FROM python:3.7\n",
      " ---> d475516974f2\n",
      "Step 2/7 : COPY hello_world_launcher.py .\n",
      " ---> Using cache\n",
      " ---> 362593ac25cf\n",
      "Step 3/7 : COPY hello_world.py .\n",
      " ---> Using cache\n",
      " ---> 170874d4dbc9\n",
      "Step 4/7 : COPY requirements.txt .\n",
      " ---> Using cache\n",
      " ---> badcfe67076e\n",
      "Step 5/7 : COPY ./ ./\n",
      " ---> f2907d7e6da9\n",
      "Step 6/7 : RUN pip install -r requirements.txt\n",
      " ---> Running in 1b68f2e3f609\n",
      "Collecting kfp\n",
      "  Downloading kfp-1.8.12.tar.gz (301 kB)\n",
      "     ━━━━━━━━━━━━━━━━━━━━━━━━━━━━━━━━━━━━━━ 301.2/301.2 KB 11.2 MB/s eta 0:00:00\n",
      "  Preparing metadata (setup.py): started\n",
      "  Preparing metadata (setup.py): finished with status 'done'\n",
      "Collecting absl-py<2,>=0.9\n",
      "  Downloading absl_py-1.0.0-py3-none-any.whl (126 kB)\n",
      "     ━━━━━━━━━━━━━━━━━━━━━━━━━━━━━━━━━━━━━━ 126.7/126.7 KB 15.8 MB/s eta 0:00:00\n",
      "Collecting PyYAML<6,>=5.3\n",
      "  Downloading PyYAML-5.4.1-cp37-cp37m-manylinux1_x86_64.whl (636 kB)\n",
      "     ━━━━━━━━━━━━━━━━━━━━━━━━━━━━━━━━━━━━━━ 636.6/636.6 KB 34.6 MB/s eta 0:00:00\n",
      "Collecting google-api-core!=2.0.*,!=2.1.*,!=2.2.*,!=2.3.0,<3.0.0dev,>=1.31.5\n",
      "  Downloading google_api_core-2.7.1-py3-none-any.whl (114 kB)\n",
      "     ━━━━━━━━━━━━━━━━━━━━━━━━━━━━━━━━━━━━━━ 114.7/114.7 KB 15.5 MB/s eta 0:00:00\n",
      "Collecting google-cloud-storage<2,>=1.20.0\n",
      "  Downloading google_cloud_storage-1.44.0-py2.py3-none-any.whl (106 kB)\n",
      "     ━━━━━━━━━━━━━━━━━━━━━━━━━━━━━━━━━━━━━━ 106.8/106.8 KB 15.1 MB/s eta 0:00:00\n",
      "Collecting kubernetes<19,>=8.0.0\n",
      "  Downloading kubernetes-18.20.0-py2.py3-none-any.whl (1.6 MB)\n",
      "     ━━━━━━━━━━━━━━━━━━━━━━━━━━━━━━━━━━━━━━━━ 1.6/1.6 MB 57.8 MB/s eta 0:00:00\n",
      "Collecting google-api-python-client<2,>=1.7.8\n",
      "  Downloading google_api_python_client-1.12.11-py2.py3-none-any.whl (62 kB)\n",
      "     ━━━━━━━━━━━━━━━━━━━━━━━━━━━━━━━━━━━━━━━━ 62.1/62.1 KB 8.6 MB/s eta 0:00:00\n",
      "Collecting google-auth<2,>=1.6.1\n",
      "  Downloading google_auth-1.35.0-py2.py3-none-any.whl (152 kB)\n",
      "     ━━━━━━━━━━━━━━━━━━━━━━━━━━━━━━━━━━━━━━ 152.9/152.9 KB 17.2 MB/s eta 0:00:00\n",
      "Collecting requests-toolbelt<1,>=0.8.0\n",
      "  Downloading requests_toolbelt-0.9.1-py2.py3-none-any.whl (54 kB)\n",
      "     ━━━━━━━━━━━━━━━━━━━━━━━━━━━━━━━━━━━━━━━━ 54.3/54.3 KB 6.8 MB/s eta 0:00:00\n",
      "Collecting cloudpickle<3,>=2.0.0\n",
      "  Downloading cloudpickle-2.0.0-py3-none-any.whl (25 kB)\n",
      "Collecting kfp-server-api<2.0.0,>=1.1.2\n",
      "  Downloading kfp-server-api-1.8.1.tar.gz (54 kB)\n",
      "     ━━━━━━━━━━━━━━━━━━━━━━━━━━━━━━━━━━━━━━━━ 54.2/54.2 KB 7.5 MB/s eta 0:00:00\n",
      "  Preparing metadata (setup.py): started\n",
      "  Preparing metadata (setup.py): finished with status 'done'\n",
      "Collecting jsonschema<4,>=3.0.1\n",
      "  Downloading jsonschema-3.2.0-py2.py3-none-any.whl (56 kB)\n",
      "     ━━━━━━━━━━━━━━━━━━━━━━━━━━━━━━━━━━━━━━━━ 56.3/56.3 KB 8.1 MB/s eta 0:00:00\n",
      "Collecting tabulate<1,>=0.8.6\n",
      "  Downloading tabulate-0.8.9-py3-none-any.whl (25 kB)\n",
      "Collecting click<9,>=7.1.2\n",
      "  Downloading click-8.1.2-py3-none-any.whl (96 kB)\n",
      "     ━━━━━━━━━━━━━━━━━━━━━━━━━━━━━━━━━━━━━━━━ 96.6/96.6 KB 12.7 MB/s eta 0:00:00\n",
      "Collecting Deprecated<2,>=1.2.7\n",
      "  Downloading Deprecated-1.2.13-py2.py3-none-any.whl (9.6 kB)\n",
      "Collecting strip-hints<1,>=0.1.8\n",
      "  Downloading strip-hints-0.1.10.tar.gz (29 kB)\n",
      "  Preparing metadata (setup.py): started\n",
      "  Preparing metadata (setup.py): finished with status 'done'\n",
      "Collecting docstring-parser<1,>=0.7.3\n",
      "  Downloading docstring_parser-0.13.tar.gz (23 kB)\n",
      "  Installing build dependencies: started\n"
     ]
    }
   ],
   "source": [
    "!docker build -t mariembouhadda/hello-world-test ."
   ]
  },
  {
   "cell_type": "code",
   "execution_count": null,
   "id": "afb9b443-41ce-4a1e-b698-68d47506a89f",
   "metadata": {},
   "outputs": [],
   "source": [
    "!docker push mariembouhadda/hello-world-test"
   ]
  },
  {
   "cell_type": "code",
   "execution_count": 4,
   "id": "ad006758-e873-4252-83d5-2d2bf1139f58",
   "metadata": {},
   "outputs": [],
   "source": [
    "import kfp\n",
    "import kfp.components as comp"
   ]
  },
  {
   "cell_type": "code",
   "execution_count": 20,
   "id": "81069820-ca5b-4558-ab75-5ce90b3c0f75",
   "metadata": {},
   "outputs": [],
   "source": [
    "@kfp.dsl.component\n",
    "def hello_world():\n",
    "    # Defining component configuration\n",
    "    hello_component = kfp.dsl.ContainerOp(\n",
    "        name='hello-world',\n",
    "        image='docker.io/mariembouhadda/hello-world:latest',\n",
    "        command=['python', 'hello_world.py'],\n",
    "        )\n",
    "    return hello_component"
   ]
  },
  {
   "cell_type": "code",
   "execution_count": 21,
   "id": "529de1a9-0a81-4e2d-8a1c-6e6c616162e7",
   "metadata": {},
   "outputs": [],
   "source": [
    "@kfp.dsl.pipeline(\n",
    "  name=\"hello world script\",\n",
    "  description=\"hello world script\"\n",
    ")\n",
    "def hi():\n",
    "    hello = hello_world()\n",
    "    hello.execution_options.caching_strategy.max_cache_staleness = \"P0D\"\n"
   ]
  },
  {
   "cell_type": "code",
   "execution_count": 22,
   "id": "f2ec311d-1ba7-4908-9852-f36d36ebea9b",
   "metadata": {},
   "outputs": [],
   "source": [
    "kfp.compiler.Compiler().compile(hi, 'hello_world.zip')"
   ]
  },
  {
   "cell_type": "code",
   "execution_count": 23,
   "id": "ae2ba4d8-586c-484c-b776-89ea6cdcabe9",
   "metadata": {},
   "outputs": [],
   "source": [
    "client = kfp.Client(host='https://21306363b1ebd301-dot-us-central1.pipelines.googleusercontent.com')"
   ]
  },
  {
   "cell_type": "code",
   "execution_count": 24,
   "id": "12d7e4db-f77a-430c-a876-390ebead3645",
   "metadata": {},
   "outputs": [
    {
     "data": {
      "text/html": [
       "<a href=\"https://21306363b1ebd301-dot-us-central1.pipelines.googleusercontent.com/#/experiments/details/23aa005d-ddd2-4643-9388-8fa0fb25f01a\" target=\"_blank\" >Experiment details</a>."
      ],
      "text/plain": [
       "<IPython.core.display.HTML object>"
      ]
     },
     "metadata": {},
     "output_type": "display_data"
    }
   ],
   "source": [
    "EXPERIMENT_NAME = 'hello world test'\n",
    "experiment = client.create_experiment(name=EXPERIMENT_NAME)"
   ]
  },
  {
   "cell_type": "code",
   "execution_count": 25,
   "id": "39a6ea92-cd97-4d14-b01e-e8b4707f5c64",
   "metadata": {},
   "outputs": [
    {
     "data": {
      "text/html": [
       "<a href=\"https://21306363b1ebd301-dot-us-central1.pipelines.googleusercontent.com/#/runs/details/4f38e698-36d6-47a6-bc13-e59ce268a5f3\" target=\"_blank\" >Run details</a>."
      ],
      "text/plain": [
       "<IPython.core.display.HTML object>"
      ]
     },
     "metadata": {},
     "output_type": "display_data"
    }
   ],
   "source": [
    "run = client.run_pipeline(experiment.id, 'hello world test', 'hello_world.zip')"
   ]
  },
  {
   "cell_type": "code",
   "execution_count": 12,
   "id": "2eba22db-f9be-49dd-a95e-716b922a29af",
   "metadata": {},
   "outputs": [
    {
     "name": "stdout",
     "output_type": "stream",
     "text": [
      "Requirement already satisfied: db-dtypes in /opt/conda/lib/python3.7/site-packages (1.0.0)\n",
      "Requirement already satisfied: pyarrow<8.0dev,>=3.0.0 in /opt/conda/lib/python3.7/site-packages (from db-dtypes) (7.0.0)\n",
      "Requirement already satisfied: packaging>=17.0 in /opt/conda/lib/python3.7/site-packages (from db-dtypes) (21.3)\n",
      "Requirement already satisfied: numpy<2.0dev,>=1.16.6 in /opt/conda/lib/python3.7/site-packages (from db-dtypes) (1.19.5)\n",
      "Requirement already satisfied: pandas<2.0dev,>=0.24.2 in /opt/conda/lib/python3.7/site-packages (from db-dtypes) (1.3.5)\n",
      "Requirement already satisfied: pyparsing!=3.0.5,>=2.0.2 in /opt/conda/lib/python3.7/site-packages (from packaging>=17.0->db-dtypes) (3.0.7)\n",
      "Requirement already satisfied: python-dateutil>=2.7.3 in /opt/conda/lib/python3.7/site-packages (from pandas<2.0dev,>=0.24.2->db-dtypes) (2.8.2)\n",
      "Requirement already satisfied: pytz>=2017.3 in /opt/conda/lib/python3.7/site-packages (from pandas<2.0dev,>=0.24.2->db-dtypes) (2021.3)\n",
      "Requirement already satisfied: six>=1.5 in /opt/conda/lib/python3.7/site-packages (from python-dateutil>=2.7.3->pandas<2.0dev,>=0.24.2->db-dtypes) (1.15.0)\n"
     ]
    }
   ],
   "source": [
    "#!pip install db-dtypes"
   ]
  },
  {
   "cell_type": "code",
   "execution_count": 13,
   "id": "b9315b05-ea16-4612-bbb3-1563999f0fdb",
   "metadata": {},
   "outputs": [],
   "source": [
    "#import db_dtypes"
   ]
  }
 ],
 "metadata": {
  "environment": {
   "kernel": "python3",
   "name": "tf2-gpu.2-6.m91",
   "type": "gcloud",
   "uri": "gcr.io/deeplearning-platform-release/tf2-gpu.2-6:m91"
  },
  "kernelspec": {
   "display_name": "Python 3",
   "language": "python",
   "name": "python3"
  },
  "language_info": {
   "codemirror_mode": {
    "name": "ipython",
    "version": 3
   },
   "file_extension": ".py",
   "mimetype": "text/x-python",
   "name": "python",
   "nbconvert_exporter": "python",
   "pygments_lexer": "ipython3",
   "version": "3.7.12"
  }
 },
 "nbformat": 4,
 "nbformat_minor": 5
}
